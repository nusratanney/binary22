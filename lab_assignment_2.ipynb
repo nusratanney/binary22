{
  "nbformat": 4,
  "nbformat_minor": 0,
  "metadata": {
    "colab": {
      "provenance": []
    },
    "kernelspec": {
      "name": "python3",
      "display_name": "Python 3"
    },
    "language_info": {
      "name": "python"
    }
  },
  "cells": [
    {
      "cell_type": "code",
      "source": [
        "import numpy as np\n",
        "\n",
        "random_matrix = np.random.randint(1, 51, (3, 3))"
      ],
      "metadata": {
        "id": "BDKOWOyiGhKM"
      },
      "execution_count": 1,
      "outputs": []
    },
    {
      "cell_type": "code",
      "execution_count": 2,
      "metadata": {
        "colab": {
          "base_uri": "https://localhost:8080/"
        },
        "id": "_oFVG3oHGRks",
        "outputId": "e541c15c-170b-4dc2-ffe6-646741f429d1"
      },
      "outputs": [
        {
          "output_type": "stream",
          "name": "stdout",
          "text": [
            "[[33 12  2]\n",
            " [33 39 11]\n",
            " [40 47 19]]\n"
          ]
        }
      ],
      "source": [
        "print(random_matrix )"
      ]
    },
    {
      "cell_type": "code",
      "source": [
        "np.random.seed(10)\n",
        "random = np.random.randint(1, 51, (3, 3))\n",
        "print(random)"
      ],
      "metadata": {
        "colab": {
          "base_uri": "https://localhost:8080/"
        },
        "id": "kgXBqrXzHN-X",
        "outputId": "ba5cd59d-8b12-4c15-9c52-142310ea31dd"
      },
      "execution_count": 3,
      "outputs": [
        {
          "output_type": "stream",
          "name": "stdout",
          "text": [
            "[[33 12  2]\n",
            " [33 39 11]\n",
            " [40 47 19]]\n"
          ]
        }
      ]
    },
    {
      "cell_type": "code",
      "source": [
        "print(random)"
      ],
      "metadata": {
        "colab": {
          "base_uri": "https://localhost:8080/"
        },
        "id": "Vn5peREmJ2uJ",
        "outputId": "367d578f-70a9-4fad-cca1-aa0d47502119"
      },
      "execution_count": 4,
      "outputs": [
        {
          "output_type": "stream",
          "name": "stdout",
          "text": [
            "[[10 37 16]\n",
            " [ 1 50 29]\n",
            " [26 30 49]]\n"
          ]
        }
      ]
    },
    {
      "cell_type": "code",
      "source": [
        "random_matrix = np.random.randint(1, 51, (3, 3))\n",
        "print(random_matrix)"
      ],
      "metadata": {
        "colab": {
          "base_uri": "https://localhost:8080/"
        },
        "id": "DwsCtp8rHufD",
        "outputId": "f8295fd9-68f0-4402-842f-161d17efb1f2"
      },
      "execution_count": 5,
      "outputs": [
        {
          "output_type": "stream",
          "name": "stdout",
          "text": [
            "[[30 50  9]\n",
            " [10  1 43]\n",
            " [41 37 17]]\n"
          ]
        }
      ]
    },
    {
      "cell_type": "markdown",
      "source": [
        "**Observe and explain the differences in outputs.**"
      ],
      "metadata": {
        "id": "ZmZ9v9fcH-3S"
      }
    },
    {
      "cell_type": "markdown",
      "source": [
        "-  a fixed seed NumPy ensures that the same random numbers are generated every time the code runs. This makes results reproducible.Without setting a seed, NumPy generates truly random numbers each time the script is run. As a result, the matrix values will change with every execution."
      ],
      "metadata": {
        "id": "5QhdVNBFIEaV"
      }
    }
  ]
}
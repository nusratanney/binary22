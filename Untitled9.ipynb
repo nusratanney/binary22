{
  "nbformat": 4,
  "nbformat_minor": 0,
  "metadata": {
    "colab": {
      "provenance": []
    },
    "kernelspec": {
      "name": "python3",
      "display_name": "Python 3"
    },
    "language_info": {
      "name": "python"
    }
  },
  "cells": [
    {
      "cell_type": "markdown",
      "source": [
        "Id:2215151044"
      ],
      "metadata": {
        "id": "z9sRZvEofOAQ"
      }
    },
    {
      "cell_type": "code",
      "execution_count": 1,
      "metadata": {
        "colab": {
          "base_uri": "https://localhost:8080/"
        },
        "id": "GXdR78iYfL-w",
        "outputId": "778fc784-f581-4dea-bb88-c6b03e6056c5"
      },
      "outputs": [
        {
          "output_type": "stream",
          "name": "stdout",
          "text": [
            "T-statistic: -3.7600\n",
            "P-value: 0.0003\n",
            "Reject the null hypothesis: There is a significant difference between the two groups.\n"
          ]
        }
      ],
      "source": [
        "import numpy as np\n",
        "import scipy.stats as stats\n",
        "\n",
        "\n",
        "np.random.seed(42)\n",
        "\n",
        "\n",
        "mu1, sigma1 = 50, 10\n",
        "mu2, sigma2 = 55, 12\n",
        "\n",
        "sample1 = np.random.normal(mu1, sigma1, 50)\n",
        "sample2 = np.random.normal(mu2, sigma2, 50)\n",
        "\n",
        "\n",
        "t_stat, p_value = stats.ttest_ind(sample1, sample2)\n",
        "\n",
        "print(f\"T-statistic: {t_stat:.4f}\")\n",
        "print(f\"P-value: {p_value:.4f}\")\n",
        "\n",
        "alpha = 0.05\n",
        "if p_value < alpha:\n",
        "    print(\"Reject the null hypothesis: There is a significant difference between the two groups.\")\n",
        "else:\n",
        "    print(\"Fail to reject the null hypothesis: No significant difference between the two groups.\")\n"
      ]
    }
  ]
}